{
  "nbformat": 4,
  "nbformat_minor": 0,
  "metadata": {
    "colab": {
      "provenance": []
    },
    "kernelspec": {
      "name": "python3",
      "display_name": "Python 3"
    },
    "language_info": {
      "name": "python"
    }
  },
  "cells": [
    {
      "cell_type": "code",
      "execution_count": null,
      "metadata": {
        "colab": {
          "base_uri": "https://localhost:8080/"
        },
        "id": "N3lusXcv-_E6",
        "outputId": "54a00c34-606e-49a8-82f8-8972fc99c64c"
      },
      "outputs": [
        {
          "output_type": "stream",
          "name": "stdout",
          "text": [
            "Depth and Branches ratio is 2 : 3\n",
            "Terminal States (leaf node values) are [26, 20, 23, 12, 15, 18, 7, 17, 29]\n",
            "Left life(HP) of the defender after maximum damage caused by the attacker is 40\n",
            "After Alpha-Beta Pruning Leaf Node Comparisons 6\n"
          ]
        }
      ],
      "source": [
        "import random\n",
        "def minimax(leafnode, alpha, beta, depth, pointer, maximizingPlayer):\n",
        "\tif depth == depth1:\n",
        "\t\tx = leafnode[pointer]\n",
        "\t\tnumber.append('1')\n",
        "\t\t#print(count)\n",
        "\t\treturn x\n",
        "\n",
        "\tif maximizingPlayer:\n",
        "\t\tlargest = mini\n",
        "\t\tfor i in range(0, 3):\n",
        "\t\t\tcall = minimax(leafnode, alpha, beta, depth + 1, pointer * 2 + i, False)\n",
        "\t\t\tlargest = max(largest, call)\n",
        "\t\t\talpha = max(alpha, largest)\n",
        "\t\t\tif beta <= alpha:\n",
        "\t\t\t\t#count = count + 1\n",
        "\t\t\t\tbreak\n",
        "\t\t#print(count)\n",
        "\t\treturn largest\n",
        "\n",
        "\telse:\n",
        "\t\tlargest = maxi\n",
        "\t\tfor i in range(0, 3):\n",
        "\t\t\tcall = minimax(leafnode, alpha, beta, depth + 1, pointer * 2 + i, True)\n",
        "\t\t\tlargest = min(largest, call)\n",
        "\t\t\tbeta = min(beta, largest)\n",
        "\t\t\tif beta <= alpha:\n",
        "\t\t\t\t#count = count + 1\n",
        "\t\t\t\tbreak\n",
        "\t\t#print(count)\n",
        "\t\treturn largest\n",
        "\n",
        "#main\n",
        "\n",
        "id = \"17301106\"\n",
        "turn = int(id[0])\n",
        "depth1 = 2*turn\n",
        "branch = int(id[2])\n",
        "reverse_val1 = id[6]\n",
        "reverse_val2 = id[7]\n",
        "reverse_val = int(reverse_val2 + reverse_val1)\n",
        "#print(reverse_val)\n",
        "#print(depth1)\n",
        "#print(branch)\n",
        "print('Depth and Branches ratio is', depth1,':',branch)\n",
        "maxi = 5000\n",
        "mini = -5000\n",
        "#count = 0\n",
        "number = []\n",
        "leafnode = random.sample(range(1,30), 9)\n",
        "print('Terminal States (leaf node values) are', leafnode)\n",
        "largeval = minimax( leafnode, mini, maxi, 0, 0, True)\n",
        "left_life = reverse_val - largeval\n",
        "print('Left life(HP) of the defender after maximum damage caused by the attacker is', left_life)\n",
        "print('After Alpha-Beta Pruning Leaf Node Comparisons', len(number))\n",
        "\n"
      ]
    },
    {
      "cell_type": "code",
      "source": [],
      "metadata": {
        "id": "YI94crJN_NL8"
      },
      "execution_count": null,
      "outputs": []
    }
  ]
}